{
 "cells": [
  {
   "cell_type": "markdown",
   "id": "e36b0c49",
   "metadata": {},
   "source": [
    "<h1 style=\"color:green\">Conway Pipeline Runner - Branch lifecycle</h1>\n",
    "<p style=\"color:green\">This notebook contains commands to manage the conway repos. In particular:</p>\n",
    "    <li style=\"color:green\"> Cross-project consistency - all are committed</li>\n",
    "    <li style=\"color:green\"> Local-remote consistency - on same commit</li>\n",
    "    <li style=\"color:green\"> Production branch isolation - uses the right tag/commit</li>\n",
    "        \n",
    "<p>We use <a href=\"https://gitpython.readthedocs.io/en/stable/tutorial.html\">GitPython commands</a></p>"
   ]
  },
  {
   "cell_type": "code",
   "execution_count": 7,
   "id": "0fabe72a",
   "metadata": {},
   "outputs": [
    {
     "name": "stdout",
     "output_type": "stream",
     "text": [
      "CONWAY installation:            \u001b[34m\u001b[7m    conway_fork    \u001b[0m\n",
      "Jupyter using repo[branch]:  \u001b[32m\u001b[7m    conway.ops[alejandro-fin]    \u001b[0m\n",
      "Installation path:           \u001b[34m\u001b[7m    C:\\Alex\\Code\\conway_fork    \u001b[0m\n",
      "Application:                 \u001b[32m\u001b[7m    <class 'chassis_nb_application.Chassis_NB_Application'>    \u001b[0m\n"
     ]
    }
   ],
   "source": [
    "import os                                                               as _os\n",
    "import sys\n",
    "sys.path.append(_os.path.dirname(_os.getcwd())) # So we can import tvm_notebook_utils\n",
    "import chassis_nb_utils\n",
    "NBU                       = chassis_nb_utils.Chassis_NB_Utils()\n",
    "DFU                       = NBU.DFU\n",
    "T0                        = NBU.time.perf_counter()"
   ]
  },
  {
   "cell_type": "code",
   "execution_count": 2,
   "id": "7af7a3d7",
   "metadata": {},
   "outputs": [],
   "source": [
    "DEV_ROOT        = \"C:/Alex/Code/conway_fork\"\n",
    "OPERATE_ROOT    = \"C:/Alex/Code/conway_fork-operate\"\n",
    "REMOTE_ROOT     = \"https://github.com/alejandro-fin/\""
   ]
  },
  {
   "cell_type": "code",
   "execution_count": 3,
   "id": "5aa14242",
   "metadata": {},
   "outputs": [
    {
     "data": {
      "text/plain": [
       "['conway.svc',\n",
       " 'conway.docs',\n",
       " 'conway.test',\n",
       " 'conway.scenarios',\n",
       " 'conway.ops',\n",
       " 'conway.acceptance',\n",
       " 'conway.acceptance_docs']"
      ]
     },
     "execution_count": 3,
     "metadata": {},
     "output_type": "execute_result"
    }
   ],
   "source": [
    "CRB             = NBU.Chassis_RepoBundle()\n",
    "[r.name for r in CRB.bundled_repos()]"
   ]
  },
  {
   "cell_type": "markdown",
   "id": "ec628657",
   "metadata": {},
   "source": [
    "<h1 style=\"color:blue\">Developer workflow</h1>\n",
    "<p style=\"color:blue\">This is to do feature work:</p>\n",
    "<li style=\"color:blue\">Choose feature branch</li>\n",
    "<li style=\"color:blue\">See status at any time</li>\n",
    "<li style=\"color:blue\">Commit to branch at any time</li>\n",
    "<li style=\"color:blue\">Deliver to integration when feature is complete</li>"
   ]
  },
  {
   "cell_type": "code",
   "execution_count": 4,
   "id": "b78288bc",
   "metadata": {},
   "outputs": [],
   "source": [
    "CONWAY_LOCAL_REPOS        = [\"conway.svc\", \"conway.acceptance\", \"conway.ops\", \"conway.test\", \"conway.scenarios\"]\n",
    "CONWAY_LOCAL_BUNDLE       = NBU.RepoBundleSubset(CRB, CONWAY_LOCAL_REPOS)\n",
    "\n",
    "dev_admin       = NBU.BranchLifecycleManager(local_root=DEV_ROOT, remote_root=REMOTE_ROOT, repo_bundle=CONWAY_LOCAL_BUNDLE)"
   ]
  },
  {
   "cell_type": "markdown",
   "id": "6615cf60",
   "metadata": {},
   "source": [
    "<h3 style=\"color:blue\">Choose what to work on</h3>"
   ]
  },
  {
   "cell_type": "code",
   "execution_count": 5,
   "id": "cdd51191",
   "metadata": {},
   "outputs": [],
   "source": [
    "FEATURE_BRANCH  = \"alejandro-fin\""
   ]
  },
  {
   "cell_type": "code",
   "execution_count": 6,
   "id": "5d237705",
   "metadata": {},
   "outputs": [
    {
     "name": "stdout",
     "output_type": "stream",
     "text": [
      "\n",
      "[176.54 sec]\t\t\n",
      "-----------conway.svc-----------\n",
      "\n",
      "[177.23 sec]\t\tCheckout 'alejandro-fin':\n",
      "Your branch is up to date with 'origin/alejandro-fin'.\n",
      "\n",
      "[177.84 sec]\t\t\n",
      "-----------conway.test-----------\n",
      "\n",
      "[178.49 sec]\t\tCheckout 'alejandro-fin':\n",
      "Your branch is up to date with 'origin/alejandro-fin'.\n",
      "\n",
      "[179.14 sec]\t\t\n",
      "-----------conway.scenarios-----------\n",
      "\n",
      "[179.85 sec]\t\tCheckout 'alejandro-fin':\n",
      "Your branch is up to date with 'origin/alejandro-fin'.\n",
      "\n",
      "[180.44 sec]\t\t\n",
      "-----------conway.ops-----------\n",
      "\n",
      "[181.08 sec]\t\tCheckout 'alejandro-fin':\n",
      "Your branch is up to date with 'origin/alejandro-fin'.\n",
      "\n",
      "[181.70 sec]\t\t\n",
      "-----------conway.acceptance-----------\n",
      "\n",
      "[182.35 sec]\t\tCheckout 'alejandro-fin':\n",
      "Your branch is up to date with 'origin/alejandro-fin'.\n"
     ]
    }
   ],
   "source": [
    "dev_admin.work_on_feature(FEATURE_BRANCH)"
   ]
  },
  {
   "cell_type": "markdown",
   "id": "f12fe5fa",
   "metadata": {},
   "source": [
    "<h3 style=\"color:blue\">Refresh from integration</h3>\n",
    "<p style=\"color:blue\">This ensures we will work on top of what others have previously delivered</p>"
   ]
  },
  {
   "cell_type": "code",
   "execution_count": null,
   "id": "1c5a2338",
   "metadata": {},
   "outputs": [],
   "source": [
    "dev_admin.refresh_from_integration(FEATURE_BRANCH)"
   ]
  },
  {
   "cell_type": "markdown",
   "id": "eb9b525c",
   "metadata": {},
   "source": [
    "<h3 style=\"color:blue\">Status</h3>"
   ]
  },
  {
   "cell_type": "code",
   "execution_count": null,
   "id": "bc71f569",
   "metadata": {},
   "outputs": [],
   "source": [
    "with NBU.Profiler(\"Gathering repo information\"):\n",
    "    stats_df    = dev_admin.repo_stats() \n",
    "stats_df"
   ]
  },
  {
   "cell_type": "markdown",
   "id": "18151acf",
   "metadata": {},
   "source": [
    "<h3 style=\"color:blue\">Commit and push</h3>\n",
    "<p style=\"color:blue\">Push is to remote feature branch, so it is done for backup purposes</p>"
   ]
  },
  {
   "cell_type": "code",
   "execution_count": null,
   "id": "17f10a4b",
   "metadata": {},
   "outputs": [],
   "source": [
    "COMMIT_MSG                         = \"[\" + FEATURE_BRANCH + \"] \" + \"\"\n",
    "\n",
    "COMMIT_MSG"
   ]
  },
  {
   "cell_type": "code",
   "execution_count": null,
   "id": "8325594c",
   "metadata": {},
   "outputs": [],
   "source": [
    "with NBU.Profiler(\"Committing work in '\" + FEATURE_BRANCH + \"'\"):\n",
    "    dev_admin.commit_feature(FEATURE_BRANCH, COMMIT_MSG)"
   ]
  },
  {
   "cell_type": "markdown",
   "id": "11f680d8",
   "metadata": {},
   "source": [
    "<h3 style=\"color:blue\">Deliver to integration</h3>"
   ]
  },
  {
   "cell_type": "code",
   "execution_count": null,
   "id": "3aa0ea35",
   "metadata": {},
   "outputs": [],
   "source": [
    "# This should only be done after all tests are passing in the feature branch\n",
    "#\n",
    "with NBU.Profiler(\"Delivering to integration\"):\n",
    "    dev_admin.complete_feature(FEATURE_BRANCH, remove_feature_branch=False)"
   ]
  },
  {
   "cell_type": "markdown",
   "id": "ed9d0a06",
   "metadata": {},
   "source": [
    "<h3 style=\"color:blue\">Move from integration to standby branch</h3>\n",
    "<li style=\"color:blue\">This is to prevent forgetting that integration is checked out and inadvertently change it</li>"
   ]
  },
  {
   "cell_type": "code",
   "execution_count": null,
   "id": "e9961fea",
   "metadata": {},
   "outputs": [],
   "source": [
    "STANDBY_BRANCH = \"ah-dev\"\n",
    "dev_admin.work_on_feature(STANDBY_BRANCH)"
   ]
  },
  {
   "cell_type": "code",
   "execution_count": null,
   "id": "310e5016",
   "metadata": {},
   "outputs": [],
   "source": [
    "dev_admin.refresh_from_integration(STANDBY_BRANCH)"
   ]
  },
  {
   "cell_type": "markdown",
   "id": "637435ee",
   "metadata": {},
   "source": [
    "<h1 style=\"color:green\">Release workflow</h1>\n",
    "<p style=\"color:green\">Publishes a release:</p>\n",
    "<li style=\"color:green\">PR from integration to master</li>\n",
    "<li style=\"color:green\">Update operate branch from master</li>"
   ]
  },
  {
   "cell_type": "code",
   "execution_count": null,
   "id": "1b461437",
   "metadata": {},
   "outputs": [],
   "source": [
    "release_admin       = NBU.VM_BranchLifecycleManager(local_root = OPERATE_ROOT, remote_root =REMOTE_ROOT)"
   ]
  },
  {
   "cell_type": "markdown",
   "id": "d0caf289",
   "metadata": {},
   "source": [
    "<h3 style=\"color:green\">PR from integration to master</h3>"
   ]
  },
  {
   "cell_type": "code",
   "execution_count": null,
   "id": "b3c2ad58",
   "metadata": {},
   "outputs": [],
   "source": [
    "# This should only be done after the production-like simulation passes successfully\n",
    "if True:\n",
    "    release_admin.pull_request_integration_to_master()"
   ]
  },
  {
   "cell_type": "code",
   "execution_count": null,
   "id": "37cfd908",
   "metadata": {},
   "outputs": [],
   "source": [
    "if True:\n",
    "    release_admin.publish_release()"
   ]
  },
  {
   "cell_type": "markdown",
   "id": "6177c9f9",
   "metadata": {},
   "source": [
    "<h1 style=\"color:purple\">Operate workflow</h1>"
   ]
  },
  {
   "cell_type": "markdown",
   "id": "fa6e2770",
   "metadata": {},
   "source": [
    "<h3 style=\"color:purple\">Status</h3>"
   ]
  },
  {
   "cell_type": "code",
   "execution_count": null,
   "id": "f52fb951",
   "metadata": {},
   "outputs": [],
   "source": [
    "operate_admin   = NBU.VM_BranchLifecycleManager(local_root = OPERATE_ROOT, remote_root =REMOTE_ROOT)"
   ]
  },
  {
   "cell_type": "code",
   "execution_count": null,
   "id": "11e3ce9f",
   "metadata": {},
   "outputs": [],
   "source": [
    "with NBU.Profiler(\"Gathering operate repo information\"):\n",
    "    stats_df    = operate_admin.repo_stats() \n",
    "stats_df"
   ]
  },
  {
   "cell_type": "markdown",
   "id": "4504943d",
   "metadata": {},
   "source": [
    "<h3 style=\"color:purple\">Commit and push</h3>"
   ]
  },
  {
   "cell_type": "code",
   "execution_count": null,
   "id": "44da01b4",
   "metadata": {},
   "outputs": [],
   "source": [
    "COMMIT_MSG                         = \"Hot fix in operate\"\n",
    "COMMIT_MSG"
   ]
  },
  {
   "cell_type": "code",
   "execution_count": null,
   "id": "54dce5f1",
   "metadata": {},
   "outputs": [],
   "source": [
    "OPERATE_BRANCH                     = NBU.VM_RepoAdministration.OPERATE_BRANCH\n",
    "\n",
    "with NBU.Profiler(\"Committing work in '\" + OPERATE_BRANCH + \"'\"):\n",
    "    operate_admin.commit_feature(OPERATE_BRANCH, COMMIT_MSG)"
   ]
  },
  {
   "cell_type": "markdown",
   "id": "30cbd20a",
   "metadata": {},
   "source": [
    "<h3 style=\"color:purple\">Publish a hot fix</h3>\n",
    "<p style=\"color:purple\">This flow from operate to master and from there to integration</p>"
   ]
  },
  {
   "cell_type": "code",
   "execution_count": null,
   "id": "21c906d6",
   "metadata": {},
   "outputs": [],
   "source": [
    "with NBU.Profiler(\"Publishing hot fix\"):\n",
    "    operate_admin.publish_hot_fix()"
   ]
  },
  {
   "cell_type": "code",
   "execution_count": null,
   "id": "5a049382",
   "metadata": {},
   "outputs": [],
   "source": []
  },
  {
   "cell_type": "markdown",
   "id": "124a8baf",
   "metadata": {},
   "source": [
    "<h1 style=\"color:red\">Removing a branch</h1>"
   ]
  },
  {
   "cell_type": "code",
   "execution_count": null,
   "id": "b319b717",
   "metadata": {},
   "outputs": [],
   "source": [
    "BRANCH_TO_REMOVE = \"story_xyz\""
   ]
  },
  {
   "cell_type": "code",
   "execution_count": null,
   "id": "f1bb9d60",
   "metadata": {},
   "outputs": [],
   "source": [
    "if False:\n",
    "    with NBU.Profiler(\"Removing branch\"):\n",
    "        dev_admin.remove_feature_branch(BRANCH_TO_REMOVE)"
   ]
  },
  {
   "cell_type": "markdown",
   "id": "2fda7c2c",
   "metadata": {},
   "source": [
    "<h1 style=\"color:brown\">Scratch</h1>"
   ]
  },
  {
   "cell_type": "code",
   "execution_count": null,
   "id": "373d1853",
   "metadata": {},
   "outputs": [],
   "source": []
  },
  {
   "cell_type": "code",
   "execution_count": null,
   "id": "28c5968e",
   "metadata": {},
   "outputs": [],
   "source": []
  }
 ],
 "metadata": {
  "kernelspec": {
   "display_name": "Python 3 (ipykernel)",
   "language": "python",
   "name": "python3"
  },
  "language_info": {
   "codemirror_mode": {
    "name": "ipython",
    "version": 3
   },
   "file_extension": ".py",
   "mimetype": "text/x-python",
   "name": "python",
   "nbconvert_exporter": "python",
   "pygments_lexer": "ipython3",
   "version": "3.10.9"
  }
 },
 "nbformat": 4,
 "nbformat_minor": 5
}
