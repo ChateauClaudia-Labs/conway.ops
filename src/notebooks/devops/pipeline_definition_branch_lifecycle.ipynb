{
 "cells": [
  {
   "cell_type": "markdown",
   "id": "e36b0c49",
   "metadata": {},
   "source": [
    "<h1 style=\"color:green\">Conway Pipeline Runner - Branch lifecycle</h1>\n",
    "<p style=\"color:green\">This notebook contains commands to manage the conway repos. In particular:</p>\n",
    "    <li style=\"color:green\"> Cross-project consistency - all are committed</li>\n",
    "    <li style=\"color:green\"> Local-remote consistency - on same commit</li>\n",
    "    <li style=\"color:green\"> Production branch isolation - uses the right tag/commit</li>\n",
    "        \n",
    "<p>We use <a href=\"https://gitpython.readthedocs.io/en/stable/tutorial.html\">GitPython commands</a></p>"
   ]
  },
  {
   "cell_type": "code",
   "execution_count": 1,
   "id": "0fabe72a",
   "metadata": {},
   "outputs": [
    {
     "name": "stdout",
     "output_type": "stream",
     "text": [
      "CONWAY installation:            \u001b[34m\u001b[7m    conway    \u001b[0m\n",
      "Jupyter using repo[branch]:  \u001b[32m\u001b[7m    conway.ops[task-conway-2]    \u001b[0m\n",
      "Installation path:           \u001b[34m\u001b[7m    /mnt/c/Users/aleja/Documents/Code/conway    \u001b[0m\n",
      "Application:                 \u001b[32m\u001b[7m    <class 'chassis_nb_application.Chassis_NB_Application'>    \u001b[0m\n"
     ]
    }
   ],
   "source": [
    "import os                                                               as _os\n",
    "import sys\n",
    "sys.path.append(_os.path.dirname(_os.getcwd())) # So we can import tvm_notebook_utils\n",
    "import chassis_nb_utils\n",
    "NBU                       = chassis_nb_utils.Chassis_NB_Utils()\n",
    "DFU                       = NBU.DFU\n",
    "T0                        = NBU.time.perf_counter()"
   ]
  },
  {
   "cell_type": "code",
   "execution_count": 2,
   "id": "7af7a3d7",
   "metadata": {},
   "outputs": [],
   "source": [
    "#DEV_ROOT        = \"C:/Alex/Code/conway_fork\"\n",
    "#OPERATE_ROOT    = \"C:/Alex/Code/conway_fork-operate\"\n",
    "\n",
    "DEV_ROOT        = \"/mnt/c/Users/aleja/Documents/Code/conway\"\n",
    "\n",
    "REMOTE_ROOT     = \"https://github.com/ChateauClaudia-Labs\""
   ]
  },
  {
   "cell_type": "code",
   "execution_count": 3,
   "id": "5aa14242",
   "metadata": {
    "scrolled": true
   },
   "outputs": [
    {
     "data": {
      "text/plain": [
       "['conway.svc',\n",
       " 'conway.docs',\n",
       " 'conway.test',\n",
       " 'conway.scenarios',\n",
       " 'conway.ops',\n",
       " 'conway.acceptance',\n",
       " 'conway.acceptance.docs']"
      ]
     },
     "execution_count": 3,
     "metadata": {},
     "output_type": "execute_result"
    }
   ],
   "source": [
    "CRB             = NBU.Chassis_RepoBundle()\n",
    "[r.name for r in CRB.bundled_repos()]"
   ]
  },
  {
   "cell_type": "markdown",
   "id": "ec628657",
   "metadata": {},
   "source": [
    "<h1 style=\"color:blue\">Developer workflow</h1>\n",
    "<p style=\"color:blue\">This is to do feature work:</p>\n",
    "<li style=\"color:blue\">Choose feature branch</li>\n",
    "<li style=\"color:blue\">See status at any time</li>\n",
    "<li style=\"color:blue\">Commit to branch at any time</li>\n",
    "<li style=\"color:blue\">Deliver to integration when feature is complete</li>"
   ]
  },
  {
   "cell_type": "code",
   "execution_count": 4,
   "id": "b78288bc",
   "metadata": {},
   "outputs": [],
   "source": [
    "#CONWAY_LOCAL_REPOS        = [\"conway.svc\", \"conway.acceptance\", \"conway.ops\", \"conway.test\", \"conway.scenarios\"]\n",
    "#CONWAY_LOCAL_BUNDLE       = NBU.RepoBundleSubset(CRB, CONWAY_LOCAL_REPOS)\n",
    "\n",
    "dev_admin       = NBU.BranchLifecycleManager(local_root=DEV_ROOT, remote_root=REMOTE_ROOT, repo_bundle=CRB)"
   ]
  },
  {
   "cell_type": "markdown",
   "id": "6615cf60",
   "metadata": {},
   "source": [
    "<h3 style=\"color:blue\">Choose what to work on</h3>"
   ]
  },
  {
   "cell_type": "code",
   "execution_count": 5,
   "id": "cdd51191",
   "metadata": {},
   "outputs": [],
   "source": [
    "#FEATURE_BRANCH  = \"alejandro-fin\"\n",
    "FEATURE_BRANCH  = \"task-conway-2\""
   ]
  },
  {
   "cell_type": "code",
   "execution_count": 6,
   "id": "5d237705",
   "metadata": {},
   "outputs": [
    {
     "name": "stdout",
     "output_type": "stream",
     "text": [
      "\n",
      "[10.57 sec]\t\t\n",
      "-----------conway.svc-----------\n",
      "\n",
      "[10.97 sec]\t\tCheckout 'task-conway-2':\n",
      "M\tsetup.cfg\n",
      "M\tsrc/conway/application/application.py\n",
      "Your branch is up to date with 'origin/task-conway-2'.\n",
      "\n",
      "[11.05 sec]\t\t\n",
      "-----------conway.docs-----------\n",
      "\n",
      "[11.31 sec]\t\tCheckout 'task-conway-2':\n",
      "Your branch is up to date with 'origin/task-conway-2'.\n",
      "\n",
      "[11.37 sec]\t\t\n",
      "-----------conway.test-----------\n",
      "\n",
      "[11.79 sec]\t\tCheckout 'task-conway-2':\n",
      "M\tsrc/conway_test/framework/application/chassis_test_application.py\n",
      "Your branch is up to date with 'origin/task-conway-2'.\n",
      "\n",
      "[11.88 sec]\t\t\n",
      "-----------conway.scenarios-----------\n",
      "\n",
      "[18.97 sec]\t\tCheckout 'task-conway-2':\n",
      "Your branch is up to date with 'origin/task-conway-2'.\n",
      "\n",
      "[19.04 sec]\t\t\n",
      "-----------conway.ops-----------\n",
      "\n",
      "[19.39 sec]\t\tCheckout 'task-conway-2':\n",
      "M\tsrc/conway_ops/notebook_client/notebook_utils.py\n",
      "M\tsrc/conway_ops/repo_admin/branch_lifecycle_manager.py\n",
      "M\tsrc/conway_ops/repo_admin/chassis_repo_bundle.py\n",
      "M\tsrc/conway_ops/repo_admin/filesystem_repo_inspector.py\n",
      "M\tsrc/conway_ops/repo_admin/github_repo_inspector.py\n",
      "M\tsrc/conway_ops/repo_admin/repo_administration.py\n",
      "M\tsrc/notebooks/chassis_nb_application.py\n",
      "Your branch is up to date with 'origin/task-conway-2'.\n",
      "\n",
      "[19.46 sec]\t\t\n",
      "-----------conway.acceptance-----------\n",
      "\n",
      "[19.81 sec]\t\tCheckout 'task-conway-2':\n",
      "Your branch is up to date with 'origin/task-conway-2'.\n",
      "\n",
      "[19.90 sec]\t\t\n",
      "-----------conway.acceptance.docs-----------\n",
      "\n",
      "[20.13 sec]\t\tCheckout 'task-conway-2':\n",
      "Your branch is up to date with 'origin/task-conway-2'.\n"
     ]
    }
   ],
   "source": [
    "dev_admin.work_on_feature(FEATURE_BRANCH)"
   ]
  },
  {
   "cell_type": "markdown",
   "id": "f12fe5fa",
   "metadata": {},
   "source": [
    "<h3 style=\"color:blue\">Refresh from integration</h3>\n",
    "<p style=\"color:blue\">This ensures we will work on top of what others have previously delivered</p>"
   ]
  },
  {
   "cell_type": "code",
   "execution_count": 7,
   "id": "1c5a2338",
   "metadata": {},
   "outputs": [
    {
     "name": "stdout",
     "output_type": "stream",
     "text": [
      "\n",
      "[28.29 sec]\t\t\n",
      "-----------conway.svc-----------\n",
      "\n",
      "[28.30 sec]\t\t\t\t*** using /mnt/c/Users/aleja/Documents/Code/conway ***\n",
      "\n",
      "[28.66 sec]\t\tCheckout 'integration':\n",
      "M\tsetup.cfg\n",
      "M\tsrc/conway/application/application.py\n",
      "Your branch is up to date with 'origin/integration'.\n",
      "\n",
      "[30.85 sec]\t\tPull 'integration':\n",
      "Already up to date.\n",
      "\n",
      "[31.22 sec]\t\tCheckout 'task-conway-2':\n",
      "M\tsetup.cfg\n",
      "M\tsrc/conway/application/application.py\n",
      "Your branch is up to date with 'origin/task-conway-2'.\n",
      "\n",
      "[31.33 sec]\t\tMerge from 'integration':\n",
      "Already up to date.\n",
      "\n",
      "[31.33 sec]\t\t\n",
      "-----------conway.docs-----------\n",
      "\n",
      "[31.33 sec]\t\t\t\t*** using /mnt/c/Users/aleja/Documents/Code/conway ***\n",
      "\n",
      "[31.59 sec]\t\tCheckout 'integration':\n",
      "Your branch is up to date with 'origin/integration'.\n",
      "\n",
      "[34.33 sec]\t\tPull 'integration':\n",
      "Already up to date.\n",
      "\n",
      "[34.66 sec]\t\tCheckout 'task-conway-2':\n",
      "Your branch is up to date with 'origin/task-conway-2'.\n",
      "\n",
      "[34.77 sec]\t\tMerge from 'integration':\n",
      "Already up to date.\n",
      "\n",
      "[34.77 sec]\t\t\n",
      "-----------conway.test-----------\n",
      "\n",
      "[34.77 sec]\t\t\t\t*** using /mnt/c/Users/aleja/Documents/Code/conway ***\n",
      "\n",
      "[35.08 sec]\t\tCheckout 'integration':\n",
      "M\tsrc/conway_test/framework/application/chassis_test_application.py\n",
      "Your branch is up to date with 'origin/integration'.\n",
      "\n",
      "[37.47 sec]\t\tPull 'integration':\n",
      "Already up to date.\n",
      "\n",
      "[37.83 sec]\t\tCheckout 'task-conway-2':\n",
      "M\tsrc/conway_test/framework/application/chassis_test_application.py\n",
      "Your branch is up to date with 'origin/task-conway-2'.\n",
      "\n",
      "[37.95 sec]\t\tMerge from 'integration':\n",
      "Already up to date.\n",
      "\n",
      "[37.95 sec]\t\t\n",
      "-----------conway.scenarios-----------\n",
      "\n",
      "[37.95 sec]\t\t\t\t*** using /mnt/c/Users/aleja/Documents/Code/conway ***\n",
      "\n",
      "[43.57 sec]\t\tCheckout 'integration':\n",
      "Your branch is ahead of 'origin/integration' by 2 commits.\n",
      "  (use \"git push\" to publish your local commits)\n",
      "\n",
      "[46.14 sec]\t\tPull 'integration':\n",
      "Already up to date.\n",
      "\n",
      "[51.17 sec]\t\tCheckout 'task-conway-2':\n",
      "Your branch is up to date with 'origin/task-conway-2'.\n",
      "\n",
      "[51.27 sec]\t\tMerge from 'integration':\n",
      "Already up to date.\n",
      "\n",
      "[51.27 sec]\t\t\n",
      "-----------conway.ops-----------\n",
      "\n",
      "[51.27 sec]\t\t\t\t*** using /mnt/c/Users/aleja/Documents/Code/conway ***\n",
      "\n",
      "[51.58 sec]\t\tCheckout 'integration':\n",
      "M\tsrc/conway_ops/notebook_client/notebook_utils.py\n",
      "M\tsrc/conway_ops/repo_admin/branch_lifecycle_manager.py\n",
      "M\tsrc/conway_ops/repo_admin/chassis_repo_bundle.py\n",
      "M\tsrc/conway_ops/repo_admin/filesystem_repo_inspector.py\n",
      "M\tsrc/conway_ops/repo_admin/github_repo_inspector.py\n",
      "M\tsrc/conway_ops/repo_admin/repo_administration.py\n",
      "M\tsrc/notebooks/chassis_nb_application.py\n",
      "Your branch is up to date with 'origin/integration'.\n",
      "\n",
      "[53.65 sec]\t\tPull 'integration':\n",
      "Already up to date.\n",
      "\n",
      "[54.00 sec]\t\tCheckout 'task-conway-2':\n",
      "M\tsrc/conway_ops/notebook_client/notebook_utils.py\n",
      "M\tsrc/conway_ops/repo_admin/branch_lifecycle_manager.py\n",
      "M\tsrc/conway_ops/repo_admin/chassis_repo_bundle.py\n",
      "M\tsrc/conway_ops/repo_admin/filesystem_repo_inspector.py\n",
      "M\tsrc/conway_ops/repo_admin/github_repo_inspector.py\n",
      "M\tsrc/conway_ops/repo_admin/repo_administration.py\n",
      "M\tsrc/notebooks/chassis_nb_application.py\n",
      "Your branch is up to date with 'origin/task-conway-2'.\n",
      "\n",
      "[54.10 sec]\t\tMerge from 'integration':\n",
      "Already up to date.\n",
      "\n",
      "[54.10 sec]\t\t\n",
      "-----------conway.acceptance-----------\n",
      "\n",
      "[54.10 sec]\t\t\t\t*** using /mnt/c/Users/aleja/Documents/Code/conway ***\n",
      "\n",
      "[54.46 sec]\t\tCheckout 'integration':\n",
      "Your branch is up to date with 'origin/integration'.\n",
      "\n",
      "[56.52 sec]\t\tPull 'integration':\n",
      "Already up to date.\n",
      "\n",
      "[56.87 sec]\t\tCheckout 'task-conway-2':\n",
      "Your branch is up to date with 'origin/task-conway-2'.\n",
      "\n",
      "[56.97 sec]\t\tMerge from 'integration':\n",
      "Already up to date.\n",
      "\n",
      "[56.97 sec]\t\t\n",
      "-----------conway.acceptance.docs-----------\n",
      "\n",
      "[56.97 sec]\t\t\t\t*** using /mnt/c/Users/aleja/Documents/Code/conway ***\n",
      "\n",
      "[57.21 sec]\t\tCheckout 'integration':\n",
      "Your branch is up to date with 'origin/integration'.\n",
      "\n",
      "[59.47 sec]\t\tPull 'integration':\n",
      "Already up to date.\n",
      "\n",
      "[59.77 sec]\t\tCheckout 'task-conway-2':\n",
      "Your branch is up to date with 'origin/task-conway-2'.\n",
      "\n",
      "[59.88 sec]\t\tMerge from 'integration':\n",
      "Already up to date.\n"
     ]
    }
   ],
   "source": [
    "dev_admin.refresh_from_integration(FEATURE_BRANCH)"
   ]
  },
  {
   "cell_type": "markdown",
   "id": "eb9b525c",
   "metadata": {},
   "source": [
    "<h3 style=\"color:blue\">Status</h3>"
   ]
  },
  {
   "cell_type": "code",
   "execution_count": 8,
   "id": "bc71f569",
   "metadata": {},
   "outputs": [
    {
     "name": "stdout",
     "output_type": "stream",
     "text": [
      "\n",
      "[78.08 sec]\tinteractiveshell:3505\tGathering repo information completed in 9.04 sec\n"
     ]
    },
    {
     "data": {
      "text/html": [
       "<div>\n",
       "<style scoped>\n",
       "    .dataframe tbody tr th:only-of-type {\n",
       "        vertical-align: middle;\n",
       "    }\n",
       "\n",
       "    .dataframe tbody tr th {\n",
       "        vertical-align: top;\n",
       "    }\n",
       "\n",
       "    .dataframe thead th {\n",
       "        text-align: right;\n",
       "    }\n",
       "</style>\n",
       "<table border=\"1\" class=\"dataframe\">\n",
       "  <thead>\n",
       "    <tr style=\"text-align: right;\">\n",
       "      <th></th>\n",
       "      <th>Repo</th>\n",
       "      <th>Local/Remote</th>\n",
       "      <th>Current Branch</th>\n",
       "      <th># Untracked files</th>\n",
       "      <th># Modified files</th>\n",
       "      <th># Deleted files</th>\n",
       "      <th>Last commit</th>\n",
       "      <th>Last commit timestamp</th>\n",
       "      <th>Last commit hash</th>\n",
       "    </tr>\n",
       "  </thead>\n",
       "  <tbody>\n",
       "    <tr>\n",
       "      <th>0</th>\n",
       "      <td>conway.svc</td>\n",
       "      <td>Local</td>\n",
       "      <td>task-conway-2</td>\n",
       "      <td>1</td>\n",
       "      <td>2</td>\n",
       "      <td>0</td>\n",
       "      <td>Merge pull request #10 from ChateauClaudia-Lab...</td>\n",
       "      <td>230619.171635</td>\n",
       "      <td>\"bb2fbd0a6cdcaac7518f9f0b4ed8bd76b1a2e8ab</td>\n",
       "    </tr>\n",
       "    <tr>\n",
       "      <th>1</th>\n",
       "      <td>conway.svc</td>\n",
       "      <td>Remote</td>\n",
       "      <td>master</td>\n",
       "      <td>0</td>\n",
       "      <td>0</td>\n",
       "      <td>0</td>\n",
       "      <td>Merge pull request #9 from alejandro-fin/maste...</td>\n",
       "      <td>230618.163152</td>\n",
       "      <td>c75e3ae553c9f86d1affde74beccbe1fda017fe5</td>\n",
       "    </tr>\n",
       "    <tr>\n",
       "      <th>2</th>\n",
       "      <td>conway.docs</td>\n",
       "      <td>Local</td>\n",
       "      <td>task-conway-2</td>\n",
       "      <td>0</td>\n",
       "      <td>0</td>\n",
       "      <td>0</td>\n",
       "      <td>Merge pull request #2 from ChateauClaudia-Labs...</td>\n",
       "      <td>230619.171943</td>\n",
       "      <td>\"219f0ff9d667849f7c83ebb84887268e9bce6de9</td>\n",
       "    </tr>\n",
       "    <tr>\n",
       "      <th>3</th>\n",
       "      <td>conway.docs</td>\n",
       "      <td>Remote</td>\n",
       "      <td>master</td>\n",
       "      <td>0</td>\n",
       "      <td>0</td>\n",
       "      <td>0</td>\n",
       "      <td>Update issue templates</td>\n",
       "      <td>230604.223735</td>\n",
       "      <td>7e3ebeb4d9a49bee989c18d3405c343174788c1f</td>\n",
       "    </tr>\n",
       "    <tr>\n",
       "      <th>4</th>\n",
       "      <td>conway.test</td>\n",
       "      <td>Local</td>\n",
       "      <td>task-conway-2</td>\n",
       "      <td>0</td>\n",
       "      <td>1</td>\n",
       "      <td>0</td>\n",
       "      <td>Merge pull request #3 from ChateauClaudia-Labs...</td>\n",
       "      <td>230619.171804</td>\n",
       "      <td>\"5ead424af54ca57e458dfb33825009acbb066b12</td>\n",
       "    </tr>\n",
       "    <tr>\n",
       "      <th>5</th>\n",
       "      <td>conway.test</td>\n",
       "      <td>Remote</td>\n",
       "      <td>master</td>\n",
       "      <td>0</td>\n",
       "      <td>0</td>\n",
       "      <td>0</td>\n",
       "      <td>Merge pull request #2 from alejandro-fin/maste...</td>\n",
       "      <td>230610.052547</td>\n",
       "      <td>dcb8f66bd41fd1d1445c8d0be983824af7327fb2</td>\n",
       "    </tr>\n",
       "    <tr>\n",
       "      <th>6</th>\n",
       "      <td>conway.scenarios</td>\n",
       "      <td>Local</td>\n",
       "      <td>task-conway-2</td>\n",
       "      <td>0</td>\n",
       "      <td>0</td>\n",
       "      <td>0</td>\n",
       "      <td>Merged with remote\"</td>\n",
       "      <td>230619.213856</td>\n",
       "      <td>\"6b92089550988c1be86221655982e0ba52bbb92e</td>\n",
       "    </tr>\n",
       "    <tr>\n",
       "      <th>7</th>\n",
       "      <td>conway.scenarios</td>\n",
       "      <td>Remote</td>\n",
       "      <td>master</td>\n",
       "      <td>0</td>\n",
       "      <td>0</td>\n",
       "      <td>0</td>\n",
       "      <td>Merge pull request #3 from alejandro-fin/maste...</td>\n",
       "      <td>230610.052706</td>\n",
       "      <td>2833dc335d78f3eb98b98f737081c418fbe59b97</td>\n",
       "    </tr>\n",
       "    <tr>\n",
       "      <th>8</th>\n",
       "      <td>conway.ops</td>\n",
       "      <td>Local</td>\n",
       "      <td>task-conway-2</td>\n",
       "      <td>2</td>\n",
       "      <td>7</td>\n",
       "      <td>0</td>\n",
       "      <td>Merge pull request #9 from ChateauClaudia-Labs...</td>\n",
       "      <td>230619.171547</td>\n",
       "      <td>\"0ade4e0c3af287a5130602ee6c9676b3c9ea7187</td>\n",
       "    </tr>\n",
       "    <tr>\n",
       "      <th>9</th>\n",
       "      <td>conway.ops</td>\n",
       "      <td>Remote</td>\n",
       "      <td>master</td>\n",
       "      <td>0</td>\n",
       "      <td>0</td>\n",
       "      <td>0</td>\n",
       "      <td>Merge pull request #8 from alejandro-fin/maste...</td>\n",
       "      <td>230619.011545</td>\n",
       "      <td>0e0273e685241436f336bbcc97b8393d5032f6de</td>\n",
       "    </tr>\n",
       "    <tr>\n",
       "      <th>10</th>\n",
       "      <td>conway.acceptance</td>\n",
       "      <td>Local</td>\n",
       "      <td>task-conway-2</td>\n",
       "      <td>0</td>\n",
       "      <td>0</td>\n",
       "      <td>0</td>\n",
       "      <td>Merge pull request #5 from ChateauClaudia-Labs...</td>\n",
       "      <td>230619.171715</td>\n",
       "      <td>\"e52be5a518ac4a4afd1c93fbea81c9bf360b4155</td>\n",
       "    </tr>\n",
       "    <tr>\n",
       "      <th>11</th>\n",
       "      <td>conway.acceptance</td>\n",
       "      <td>Remote</td>\n",
       "      <td>master</td>\n",
       "      <td>0</td>\n",
       "      <td>0</td>\n",
       "      <td>0</td>\n",
       "      <td>Merge pull request #4 from alejandro-fin/maste...</td>\n",
       "      <td>230619.013234</td>\n",
       "      <td>8aa88bd847c8c8199d48fab6dbade6e87ba08d7f</td>\n",
       "    </tr>\n",
       "    <tr>\n",
       "      <th>12</th>\n",
       "      <td>conway.acceptance.docs</td>\n",
       "      <td>Local</td>\n",
       "      <td>task-conway-2</td>\n",
       "      <td>0</td>\n",
       "      <td>0</td>\n",
       "      <td>0</td>\n",
       "      <td>Merge pull request #2 from ChateauClaudia-Labs...</td>\n",
       "      <td>230619.172031</td>\n",
       "      <td>\"84c3d49dee876f753a6a9fd661934fb62de1e618</td>\n",
       "    </tr>\n",
       "    <tr>\n",
       "      <th>13</th>\n",
       "      <td>conway.acceptance.docs</td>\n",
       "      <td>Remote</td>\n",
       "      <td>master</td>\n",
       "      <td>0</td>\n",
       "      <td>0</td>\n",
       "      <td>0</td>\n",
       "      <td>Update issue templates</td>\n",
       "      <td>230604.223648</td>\n",
       "      <td>7a2ed21bc28cba0a4b4efe52963eb7963c312610</td>\n",
       "    </tr>\n",
       "  </tbody>\n",
       "</table>\n",
       "</div>"
      ],
      "text/plain": [
       "                      Repo Local/Remote Current Branch  # Untracked files  \\\n",
       "0               conway.svc        Local  task-conway-2                  1   \n",
       "1               conway.svc       Remote         master                  0   \n",
       "2              conway.docs        Local  task-conway-2                  0   \n",
       "3              conway.docs       Remote         master                  0   \n",
       "4              conway.test        Local  task-conway-2                  0   \n",
       "5              conway.test       Remote         master                  0   \n",
       "6         conway.scenarios        Local  task-conway-2                  0   \n",
       "7         conway.scenarios       Remote         master                  0   \n",
       "8               conway.ops        Local  task-conway-2                  2   \n",
       "9               conway.ops       Remote         master                  0   \n",
       "10       conway.acceptance        Local  task-conway-2                  0   \n",
       "11       conway.acceptance       Remote         master                  0   \n",
       "12  conway.acceptance.docs        Local  task-conway-2                  0   \n",
       "13  conway.acceptance.docs       Remote         master                  0   \n",
       "\n",
       "    # Modified files  # Deleted files  \\\n",
       "0                  2                0   \n",
       "1                  0                0   \n",
       "2                  0                0   \n",
       "3                  0                0   \n",
       "4                  1                0   \n",
       "5                  0                0   \n",
       "6                  0                0   \n",
       "7                  0                0   \n",
       "8                  7                0   \n",
       "9                  0                0   \n",
       "10                 0                0   \n",
       "11                 0                0   \n",
       "12                 0                0   \n",
       "13                 0                0   \n",
       "\n",
       "                                          Last commit Last commit timestamp  \\\n",
       "0   Merge pull request #10 from ChateauClaudia-Lab...         230619.171635   \n",
       "1   Merge pull request #9 from alejandro-fin/maste...         230618.163152   \n",
       "2   Merge pull request #2 from ChateauClaudia-Labs...         230619.171943   \n",
       "3                              Update issue templates         230604.223735   \n",
       "4   Merge pull request #3 from ChateauClaudia-Labs...         230619.171804   \n",
       "5   Merge pull request #2 from alejandro-fin/maste...         230610.052547   \n",
       "6                                 Merged with remote\"         230619.213856   \n",
       "7   Merge pull request #3 from alejandro-fin/maste...         230610.052706   \n",
       "8   Merge pull request #9 from ChateauClaudia-Labs...         230619.171547   \n",
       "9   Merge pull request #8 from alejandro-fin/maste...         230619.011545   \n",
       "10  Merge pull request #5 from ChateauClaudia-Labs...         230619.171715   \n",
       "11  Merge pull request #4 from alejandro-fin/maste...         230619.013234   \n",
       "12  Merge pull request #2 from ChateauClaudia-Labs...         230619.172031   \n",
       "13                             Update issue templates         230604.223648   \n",
       "\n",
       "                             Last commit hash  \n",
       "0   \"bb2fbd0a6cdcaac7518f9f0b4ed8bd76b1a2e8ab  \n",
       "1    c75e3ae553c9f86d1affde74beccbe1fda017fe5  \n",
       "2   \"219f0ff9d667849f7c83ebb84887268e9bce6de9  \n",
       "3    7e3ebeb4d9a49bee989c18d3405c343174788c1f  \n",
       "4   \"5ead424af54ca57e458dfb33825009acbb066b12  \n",
       "5    dcb8f66bd41fd1d1445c8d0be983824af7327fb2  \n",
       "6   \"6b92089550988c1be86221655982e0ba52bbb92e  \n",
       "7    2833dc335d78f3eb98b98f737081c418fbe59b97  \n",
       "8   \"0ade4e0c3af287a5130602ee6c9676b3c9ea7187  \n",
       "9    0e0273e685241436f336bbcc97b8393d5032f6de  \n",
       "10  \"e52be5a518ac4a4afd1c93fbea81c9bf360b4155  \n",
       "11   8aa88bd847c8c8199d48fab6dbade6e87ba08d7f  \n",
       "12  \"84c3d49dee876f753a6a9fd661934fb62de1e618  \n",
       "13   7a2ed21bc28cba0a4b4efe52963eb7963c312610  "
      ]
     },
     "execution_count": 8,
     "metadata": {},
     "output_type": "execute_result"
    }
   ],
   "source": [
    "with NBU.Profiler(\"Gathering repo information\"):\n",
    "    stats_df    = dev_admin.repo_stats() \n",
    "stats_df"
   ]
  },
  {
   "cell_type": "markdown",
   "id": "18151acf",
   "metadata": {},
   "source": [
    "<h3 style=\"color:blue\">Commit and push</h3>\n",
    "<p style=\"color:blue\">Push is to remote feature branch, so it is done for backup purposes</p>"
   ]
  },
  {
   "cell_type": "code",
   "execution_count": null,
   "id": "17f10a4b",
   "metadata": {},
   "outputs": [],
   "source": [
    "COMMIT_MSG                         = \"[\" + FEATURE_BRANCH + \"] \" + \"\"\n",
    "\n",
    "COMMIT_MSG"
   ]
  },
  {
   "cell_type": "code",
   "execution_count": null,
   "id": "8325594c",
   "metadata": {},
   "outputs": [],
   "source": [
    "with NBU.Profiler(\"Committing work in '\" + FEATURE_BRANCH + \"'\"):\n",
    "    dev_admin.commit_feature(FEATURE_BRANCH, COMMIT_MSG)"
   ]
  },
  {
   "cell_type": "markdown",
   "id": "11f680d8",
   "metadata": {},
   "source": [
    "<h3 style=\"color:blue\">Deliver to integration</h3>"
   ]
  },
  {
   "cell_type": "code",
   "execution_count": null,
   "id": "3aa0ea35",
   "metadata": {},
   "outputs": [],
   "source": [
    "# This should only be done after all tests are passing in the feature branch\n",
    "#\n",
    "with NBU.Profiler(\"Delivering to integration\"):\n",
    "    dev_admin.complete_feature(FEATURE_BRANCH, remove_feature_branch=False)"
   ]
  },
  {
   "cell_type": "markdown",
   "id": "ed9d0a06",
   "metadata": {},
   "source": [
    "<h3 style=\"color:blue\">Move from integration to standby branch</h3>\n",
    "<li style=\"color:blue\">This is to prevent forgetting that integration is checked out and inadvertently change it</li>"
   ]
  },
  {
   "cell_type": "code",
   "execution_count": null,
   "id": "e9961fea",
   "metadata": {},
   "outputs": [],
   "source": [
    "STANDBY_BRANCH = \"ah-dev\"\n",
    "dev_admin.work_on_feature(STANDBY_BRANCH)"
   ]
  },
  {
   "cell_type": "code",
   "execution_count": null,
   "id": "310e5016",
   "metadata": {},
   "outputs": [],
   "source": [
    "dev_admin.refresh_from_integration(STANDBY_BRANCH)"
   ]
  },
  {
   "cell_type": "markdown",
   "id": "637435ee",
   "metadata": {},
   "source": [
    "<h1 style=\"color:green\">Release workflow</h1>\n",
    "<p style=\"color:green\">Publishes a release:</p>\n",
    "<li style=\"color:green\">PR from integration to master</li>\n",
    "<li style=\"color:green\">Update operate branch from master</li>"
   ]
  },
  {
   "cell_type": "code",
   "execution_count": null,
   "id": "1b461437",
   "metadata": {},
   "outputs": [],
   "source": [
    "release_admin       = NBU.VM_BranchLifecycleManager(local_root = OPERATE_ROOT, remote_root =REMOTE_ROOT)"
   ]
  },
  {
   "cell_type": "markdown",
   "id": "d0caf289",
   "metadata": {},
   "source": [
    "<h3 style=\"color:green\">PR from integration to master</h3>"
   ]
  },
  {
   "cell_type": "code",
   "execution_count": null,
   "id": "b3c2ad58",
   "metadata": {},
   "outputs": [],
   "source": [
    "# This should only be done after the production-like simulation passes successfully\n",
    "if True:\n",
    "    release_admin.pull_request_integration_to_master()"
   ]
  },
  {
   "cell_type": "code",
   "execution_count": null,
   "id": "37cfd908",
   "metadata": {},
   "outputs": [],
   "source": [
    "if True:\n",
    "    release_admin.publish_release()"
   ]
  },
  {
   "cell_type": "markdown",
   "id": "6177c9f9",
   "metadata": {},
   "source": [
    "<h1 style=\"color:purple\">Operate workflow</h1>"
   ]
  },
  {
   "cell_type": "markdown",
   "id": "fa6e2770",
   "metadata": {},
   "source": [
    "<h3 style=\"color:purple\">Status</h3>"
   ]
  },
  {
   "cell_type": "code",
   "execution_count": null,
   "id": "f52fb951",
   "metadata": {},
   "outputs": [],
   "source": [
    "operate_admin   = NBU.VM_BranchLifecycleManager(local_root = OPERATE_ROOT, remote_root =REMOTE_ROOT)"
   ]
  },
  {
   "cell_type": "code",
   "execution_count": null,
   "id": "11e3ce9f",
   "metadata": {},
   "outputs": [],
   "source": [
    "with NBU.Profiler(\"Gathering operate repo information\"):\n",
    "    stats_df    = operate_admin.repo_stats() \n",
    "stats_df"
   ]
  },
  {
   "cell_type": "markdown",
   "id": "4504943d",
   "metadata": {},
   "source": [
    "<h3 style=\"color:purple\">Commit and push</h3>"
   ]
  },
  {
   "cell_type": "code",
   "execution_count": null,
   "id": "44da01b4",
   "metadata": {},
   "outputs": [],
   "source": [
    "COMMIT_MSG                         = \"Hot fix in operate\"\n",
    "COMMIT_MSG"
   ]
  },
  {
   "cell_type": "code",
   "execution_count": null,
   "id": "54dce5f1",
   "metadata": {},
   "outputs": [],
   "source": [
    "OPERATE_BRANCH                     = NBU.VM_RepoAdministration.OPERATE_BRANCH\n",
    "\n",
    "with NBU.Profiler(\"Committing work in '\" + OPERATE_BRANCH + \"'\"):\n",
    "    operate_admin.commit_feature(OPERATE_BRANCH, COMMIT_MSG)"
   ]
  },
  {
   "cell_type": "markdown",
   "id": "30cbd20a",
   "metadata": {},
   "source": [
    "<h3 style=\"color:purple\">Publish a hot fix</h3>\n",
    "<p style=\"color:purple\">This flow from operate to master and from there to integration</p>"
   ]
  },
  {
   "cell_type": "code",
   "execution_count": null,
   "id": "21c906d6",
   "metadata": {},
   "outputs": [],
   "source": [
    "with NBU.Profiler(\"Publishing hot fix\"):\n",
    "    operate_admin.publish_hot_fix()"
   ]
  },
  {
   "cell_type": "code",
   "execution_count": null,
   "id": "5a049382",
   "metadata": {},
   "outputs": [],
   "source": []
  },
  {
   "cell_type": "markdown",
   "id": "124a8baf",
   "metadata": {},
   "source": [
    "<h1 style=\"color:red\">Removing a branch</h1>"
   ]
  },
  {
   "cell_type": "code",
   "execution_count": null,
   "id": "b319b717",
   "metadata": {},
   "outputs": [],
   "source": [
    "BRANCH_TO_REMOVE = \"story_xyz\""
   ]
  },
  {
   "cell_type": "code",
   "execution_count": null,
   "id": "f1bb9d60",
   "metadata": {},
   "outputs": [],
   "source": [
    "if False:\n",
    "    with NBU.Profiler(\"Removing branch\"):\n",
    "        dev_admin.remove_feature_branch(BRANCH_TO_REMOVE)"
   ]
  },
  {
   "cell_type": "markdown",
   "id": "2fda7c2c",
   "metadata": {},
   "source": [
    "<h1 style=\"color:brown\">Scratch</h1>"
   ]
  },
  {
   "cell_type": "code",
   "execution_count": null,
   "id": "373d1853",
   "metadata": {},
   "outputs": [],
   "source": []
  },
  {
   "cell_type": "code",
   "execution_count": null,
   "id": "28c5968e",
   "metadata": {},
   "outputs": [],
   "source": []
  }
 ],
 "metadata": {
  "kernelspec": {
   "display_name": "Python 3 (ipykernel)",
   "language": "python",
   "name": "python3"
  },
  "language_info": {
   "codemirror_mode": {
    "name": "ipython",
    "version": 3
   },
   "file_extension": ".py",
   "mimetype": "text/x-python",
   "name": "python",
   "nbconvert_exporter": "python",
   "pygments_lexer": "ipython3",
   "version": "3.11.3"
  }
 },
 "nbformat": 4,
 "nbformat_minor": 5
}
