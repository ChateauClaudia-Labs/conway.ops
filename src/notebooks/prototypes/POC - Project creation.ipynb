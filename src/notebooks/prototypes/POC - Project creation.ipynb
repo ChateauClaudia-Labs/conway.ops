{
 "cells": [
  {
   "cell_type": "markdown",
   "id": "7e594e79",
   "metadata": {},
   "source": [
    "<h1 style=\"color:green\">POC - Project Creation</h1>"
   ]
  },
  {
   "cell_type": "code",
   "execution_count": 1,
   "id": "f4d7cd20",
   "metadata": {},
   "outputs": [
    {
     "name": "stdout",
     "output_type": "stream",
     "text": [
      "CONWAY installation:            \u001b[34m\u001b[7m    conway    \u001b[0m\n",
      "Jupyter using repo[branch]:  \u001b[32m\u001b[7m    conway.ops[task-conway-2]    \u001b[0m\n",
      "Installation path:           \u001b[34m\u001b[7m    /mnt/c/Users/aleja/Documents/Code/conway    \u001b[0m\n",
      "Application:                 \u001b[32m\u001b[7m    <class 'chassis_nb_application.Chassis_NB_Application'>    \u001b[0m\n"
     ]
    }
   ],
   "source": [
    "import os                                                               as _os\n",
    "import sys\n",
    "sys.path.append(_os.path.dirname(_os.getcwd())) # So we can import tvm_notebook_utils\n",
    "import chassis_nb_utils\n",
    "NBU                       = chassis_nb_utils.Chassis_NB_Utils()\n",
    "DFU                       = NBU.DFU\n",
    "T0                        = NBU.time.perf_counter()"
   ]
  },
  {
   "cell_type": "code",
   "execution_count": 2,
   "id": "19cd1200",
   "metadata": {},
   "outputs": [],
   "source": [
    "EXPERIMENT_SANDBOX                          = \"/mnt/c/Users/aleja/Documents/Alejandro/tmp\"\n",
    "LOCAL_REPOS_ROOT                            = f\"{EXPERIMENT_SANDBOX}/local\"\n",
    "REMOTE_REPOS_ROOT                           = f\"{EXPERIMENT_SANDBOX}/remote\""
   ]
  },
  {
   "cell_type": "code",
   "execution_count": 3,
   "id": "8a67f98b",
   "metadata": {},
   "outputs": [
    {
     "data": {
      "text/plain": [
       "'/mnt/c/Users/aleja/Documents/Alejandro/tmp/remote'"
      ]
     },
     "execution_count": 3,
     "metadata": {},
     "output_type": "execute_result"
    }
   ],
   "source": [
    "REMOTE_REPOS_ROOT"
   ]
  },
  {
   "cell_type": "code",
   "execution_count": 4,
   "id": "8631878a",
   "metadata": {},
   "outputs": [],
   "source": [
    "admin                                       = NBU.RepoAdministration(\n",
    "                                                                 local_root     = LOCAL_REPOS_ROOT, \n",
    "                                                                 remote_root    = REMOTE_REPOS_ROOT, \n",
    "                                                                 repo_bundle    = None)"
   ]
  },
  {
   "cell_type": "code",
   "execution_count": 5,
   "id": "3db76d3e",
   "metadata": {},
   "outputs": [
    {
     "name": "stdout",
     "output_type": "stream",
     "text": [
      "\n",
      "[10.78 sec]\tinteractiveshell:3505\tCreating repo bundle for foo_app1 completed in 10.02 sec\n"
     ]
    }
   ],
   "source": [
    "TEST_PROJECT                                = \"foo_app1\"\n",
    "with NBU.Profiler(f\"Creating repo bundle for {TEST_PROJECT}\"):\n",
    "    repo_bundle                             = admin.create_project(project_name     = TEST_PROJECT,\n",
    "                                                                   work_branch_name = \"bar-dev\") \n"
   ]
  },
  {
   "cell_type": "code",
   "execution_count": 6,
   "id": "68ecc0c9",
   "metadata": {},
   "outputs": [
    {
     "name": "stdout",
     "output_type": "stream",
     "text": [
      "\n",
      "[15.47 sec]\tinteractiveshell:3505\tCreating repo bundle for foo_app2 completed in 4.19 sec\n"
     ]
    }
   ],
   "source": [
    "TEST_PROJECT                                = \"foo_app2\"\n",
    "with NBU.Profiler(f\"Creating repo bundle for {TEST_PROJECT}\"):\n",
    "    repo_bundle                             = admin.create_project(project_name     = TEST_PROJECT,\n",
    "                                                                   git_usage        = NBU.GitUsage.git_local_only,\n",
    "                                                                   work_branch_name = \"bar-dev2\") "
   ]
  },
  {
   "cell_type": "code",
   "execution_count": 8,
   "id": "a6153d59",
   "metadata": {},
   "outputs": [
    {
     "name": "stdout",
     "output_type": "stream",
     "text": [
      "\n",
      "[151.61 sec]\tinteractiveshell:3505\tCreating repo bundle for foo_app3 completed in 0.07 sec\n"
     ]
    }
   ],
   "source": [
    "TEST_PROJECT                                = \"foo_app3\"\n",
    "with NBU.Profiler(f\"Creating repo bundle for {TEST_PROJECT}\"):\n",
    "    repo_bundle                             = admin.create_project(project_name     = TEST_PROJECT,\n",
    "                                                                   git_usage        = NBU.GitUsage.no_git_usage,\n",
    "                                                                  work_branch_name  = None)"
   ]
  },
  {
   "cell_type": "code",
   "execution_count": null,
   "id": "60a7bbb1",
   "metadata": {},
   "outputs": [],
   "source": []
  }
 ],
 "metadata": {
  "kernelspec": {
   "display_name": "Python 3 (ipykernel)",
   "language": "python",
   "name": "python3"
  },
  "language_info": {
   "codemirror_mode": {
    "name": "ipython",
    "version": 3
   },
   "file_extension": ".py",
   "mimetype": "text/x-python",
   "name": "python",
   "nbconvert_exporter": "python",
   "pygments_lexer": "ipython3",
   "version": "3.11.3"
  }
 },
 "nbformat": 4,
 "nbformat_minor": 5
}
