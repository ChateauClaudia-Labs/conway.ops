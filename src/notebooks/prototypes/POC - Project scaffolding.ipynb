{
 "cells": [
  {
   "cell_type": "markdown",
   "id": "7e594e79",
   "metadata": {},
   "source": [
    "<h1 style=\"color:green\">POC - Project Scaffolding</h1>"
   ]
  },
  {
   "cell_type": "code",
   "execution_count": 1,
   "id": "f4d7cd20",
   "metadata": {},
   "outputs": [
    {
     "name": "stdout",
     "output_type": "stream",
     "text": [
      "CONWAY installation:            \u001b[34m\u001b[7m    conway    \u001b[0m\n",
      "Jupyter using repo[branch]:  \u001b[32m\u001b[7m    conway.ops[task-conway-2]    \u001b[0m\n",
      "Installation path:           \u001b[34m\u001b[7m    /mnt/c/Users/aleja/Documents/Code/conway    \u001b[0m\n",
      "Application:                 \u001b[32m\u001b[7m    <class 'chassis_nb_application.Chassis_NB_Application'>    \u001b[0m\n"
     ]
    }
   ],
   "source": [
    "import os                                                               as _os\n",
    "import sys\n",
    "sys.path.append(_os.path.dirname(_os.getcwd())) # So we can import tvm_notebook_utils\n",
    "import chassis_nb_utils\n",
    "NBU                       = chassis_nb_utils.Chassis_NB_Utils()\n",
    "DFU                       = NBU.DFU\n",
    "T0                        = NBU.time.perf_counter()"
   ]
  },
  {
   "cell_type": "code",
   "execution_count": 2,
   "id": "19cd1200",
   "metadata": {},
   "outputs": [],
   "source": [
    "EXPERIMENT_SANDBOX                          = \"/mnt/c/Users/aleja/Documents/Alejandro/tmp/scaffolding\"\n",
    "LOCAL_REPOS_ROOT                            = f\"{EXPERIMENT_SANDBOX}/local\"\n",
    "REMOTE_REPOS_ROOT                           = f\"{EXPERIMENT_SANDBOX}/remote\"\n",
    "TEMPLATES_ROOT                              = f\"/mnt/c/Users/aleja/Documents/Code/conway/conway.ops/app_templates\""
   ]
  },
  {
   "cell_type": "code",
   "execution_count": 3,
   "id": "8a67f98b",
   "metadata": {},
   "outputs": [
    {
     "data": {
      "text/plain": [
       "'/mnt/c/Users/aleja/Documents/Alejandro/tmp/scaffolding/remote'"
      ]
     },
     "execution_count": 3,
     "metadata": {},
     "output_type": "execute_result"
    }
   ],
   "source": [
    "REMOTE_REPOS_ROOT"
   ]
  },
  {
   "cell_type": "code",
   "execution_count": null,
   "id": "8631878a",
   "metadata": {},
   "outputs": [],
   "source": [
    "admin                                       = NBU.RepoAdministration(\n",
    "                                                                 local_root     = LOCAL_REPOS_ROOT, \n",
    "                                                                 remote_root    = REMOTE_REPOS_ROOT, \n",
    "                                                                 repo_bundle    = None)"
   ]
  },
  {
   "cell_type": "code",
   "execution_count": null,
   "id": "fcfe13b5",
   "metadata": {},
   "outputs": [],
   "source": [
    "params_dict                                 = {\"app_code\": \"cash\", \n",
    "                                               \"app_name\": \"CashManagement\", \n",
    "                                               \"app_module\": \"cash_management\"}\n",
    "variables_dict                              = {\"params\": params_dict}\n",
    "scaffold_spec                               = NBU.ScaffoldSpec(f\"{TEMPLATES_ROOT}/101\", variables_dict)\n"
   ]
  },
  {
   "cell_type": "code",
   "execution_count": null,
   "id": "a6153d59",
   "metadata": {},
   "outputs": [],
   "source": [
    "TEST_PROJECT                                = \"cash\"\n",
    "NBU.PathUtils().remove(f\"{LOCAL_REPOS_ROOT}\")\n",
    "NBU.PathUtils().remove(f\"{REMOTE_REPOS_ROOT}\")\n",
    "with NBU.Profiler(f\"Creating repo bundle for {TEST_PROJECT}\"):\n",
    "    repo_bundle                             = admin.create_project(project_name     = TEST_PROJECT,\n",
    "                                                                   scaffold_spec    = scaffold_spec,\n",
    "                                                                   git_usage        = NBU.GitUsage.git_local_only,\n",
    "                                                                   work_branch_name = \"dev\") "
   ]
  },
  {
   "cell_type": "code",
   "execution_count": null,
   "id": "1574f0d2",
   "metadata": {},
   "outputs": [],
   "source": [
    "assert False"
   ]
  },
  {
   "cell_type": "code",
   "execution_count": 4,
   "id": "66b2ad3d",
   "metadata": {},
   "outputs": [
    {
     "data": {
      "text/plain": [
       "'/mnt/c/Users/aleja/Documents/Code/conway/conway.ops/app_templates'"
      ]
     },
     "execution_count": 4,
     "metadata": {},
     "output_type": "execute_result"
    }
   ],
   "source": [
    "NBU.ScaffoldSpec.standard_templates_location()"
   ]
  },
  {
   "cell_type": "code",
   "execution_count": null,
   "id": "33ea14a4",
   "metadata": {},
   "outputs": [],
   "source": []
  },
  {
   "cell_type": "code",
   "execution_count": null,
   "id": "60a7bbb1",
   "metadata": {},
   "outputs": [],
   "source": [
    "scaffold_gen                                = NBU.ScaffoldGenerator(LOCAL_REPOS_ROOT, scaffold_spec)\n",
    "scaffold_spec.templates_root"
   ]
  },
  {
   "cell_type": "code",
   "execution_count": null,
   "id": "d5a13215",
   "metadata": {},
   "outputs": [],
   "source": [
    "svc_ri = [ri for ri in repo_bundle.bundled_repos() if ri.name.endswith(\".svc\")][0]\n",
    "svc_ri, svc_ri.name"
   ]
  },
  {
   "cell_type": "code",
   "execution_count": null,
   "id": "e03d019d",
   "metadata": {},
   "outputs": [],
   "source": [
    "m\n",
    "scaffold_gen.generate(svc_ri)"
   ]
  },
  {
   "cell_type": "code",
   "execution_count": null,
   "id": "0526980f",
   "metadata": {},
   "outputs": [],
   "source": [
    "from jinja2 import Environment, FileSystemLoader\n",
    "from pathlib import Path"
   ]
  },
  {
   "cell_type": "code",
   "execution_count": null,
   "id": "899038ed",
   "metadata": {},
   "outputs": [],
   "source": [
    "def eval_templated_folder(folder, variables_dict):\n",
    "    \n",
    "    tokens = folder.split(\".\")\n",
    "    if len(tokens) == 0 or not tokens[0] in variables_dict.keys(): # Hit bottom - nothing templated in the path\n",
    "        return folder\n",
    "    \n",
    "    # If we get here, then we had a match, so the path includes templates\n",
    "    val      = variables_dict[tokens[0]]\n",
    "    tail_folder = \".\".join(tokens[1:])\n",
    "    \n",
    "    if type(val)==dict: # we need to recurse\n",
    "        return eval_templated_folder(tail_folder, val)\n",
    "    else:\n",
    "        if len(tail_folder) > 0: # There was more text than the template variables, so need to not lose the \".\"\n",
    "            tail_folder = f\".{tail_folder}\"\n",
    "        return f\"{str(val)}{tail_folder}\"\n",
    "    \n",
    "def eval_templated_path(path, variables_dict):\n",
    "    evaluated_parts = []\n",
    "    for templated_folder in Path(path).parts:\n",
    "        folder = eval_templated_folder(templated_folder, variables_dict)\n",
    "        evaluated_parts.append(folder)\n",
    "    return \"/\".join(evaluated_parts)"
   ]
  },
  {
   "cell_type": "code",
   "execution_count": null,
   "id": "e8fe3e6b",
   "metadata": {},
   "outputs": [],
   "source": [
    "eval_templated_folder(\"params.app_code.svc\", variables_dict)"
   ]
  },
  {
   "cell_type": "code",
   "execution_count": null,
   "id": "e8752fc2",
   "metadata": {},
   "outputs": [],
   "source": [
    "eval_templated_path(\"params.app_code.svc/src/params.app_name/__init__.py\", variables_dict)"
   ]
  },
  {
   "cell_type": "code",
   "execution_count": null,
   "id": "672a4678",
   "metadata": {},
   "outputs": [],
   "source": [
    "environment = Environment(loader=FileSystemLoader(scaffold_spec.templates_root))\n",
    "for template_relative_path in environment.list_templates():\n",
    "    template = environment.get_template(template_relative_path)\n",
    "    \n",
    "    content = template.render(\n",
    "        variables_dict\n",
    "    )\n",
    "    destination_filename = f\"{LOCAL_REPOS_ROOT}/{template_relative_path}\"\n",
    "    destination_filename = eval_templated_path(destination_filename, variables_dict)\n",
    "    destination_path = Path(destination_filename).parent.as_posix()\n",
    "    Path(destination_path).mkdir(parents=True, exist_ok=True)\n",
    "    with open(destination_filename, mode=\"w\", encoding=\"utf-8\") as generated_file:\n",
    "        generated_file.write(content)\n",
    "        print(f\"... wrote {destination_filename}\")"
   ]
  },
  {
   "cell_type": "code",
   "execution_count": null,
   "id": "4cc99e82",
   "metadata": {},
   "outputs": [],
   "source": [
    "Path('/mnt/c/Users/aleja/Documents/Alejandro/tmp/scaffolding/local/params.app_code.svc/.gitignore').parent.as_posix()"
   ]
  },
  {
   "cell_type": "code",
   "execution_count": null,
   "id": "9c936ade",
   "metadata": {},
   "outputs": [],
   "source": [
    "environment.list_templates()"
   ]
  },
  {
   "cell_type": "code",
   "execution_count": null,
   "id": "989b915a",
   "metadata": {},
   "outputs": [],
   "source": [
    "dir(environment)"
   ]
  },
  {
   "cell_type": "code",
   "execution_count": null,
   "id": "537ed3c6",
   "metadata": {},
   "outputs": [],
   "source": [
    "environment = Environment(loader=FileSystemLoader(scaffold_spec.templates_root))\n",
    "def _generate_file(template_file, template_dir):\n",
    "    \n",
    "    relative_dir = Path(template_dir).relative_to()\n",
    "    template = environment.get_template(\"message.txt\")\n",
    "\n",
    "    filename = f\"message_{student['name'].lower()}.txt\"\n",
    "    content = template.render(\n",
    "        student,\n",
    "        max_score=max_score,\n",
    "        test_name=test_name\n",
    "    )\n",
    "    with open(filename, mode=\"w\", encoding=\"utf-8\") as message:\n",
    "        message.write(content)\n",
    "        print(f\"... wrote {filename}\")"
   ]
  },
  {
   "cell_type": "code",
   "execution_count": null,
   "id": "f560139e",
   "metadata": {},
   "outputs": [],
   "source": [
    "for root, dirs, files in _os.walk(scaffold_spec.templates_root):\n",
    "    print(f\"----------- root={root}\")\n",
    "    for name in files:\n",
    "        print(f\"file={name}\")\n",
    "    for name in dirs:\n",
    "        print(f\"dir={name}\")"
   ]
  },
  {
   "cell_type": "code",
   "execution_count": 5,
   "id": "1e95f615",
   "metadata": {},
   "outputs": [
    {
     "data": {
      "text/plain": [
       "'.gitignore'"
      ]
     },
     "execution_count": 5,
     "metadata": {},
     "output_type": "execute_result"
    }
   ],
   "source": [
    "_os.path.relpath(\"/mnt/c/Users/aleja/Documents/Code/conway/conway.scenarios/8101/ACTUALS@latest/bundled_repos_remote/cash.svc/.gitignore\",\n",
    "                start=\"/mnt/c/Users/aleja/Documents/Code/conway/conway.scenarios/8101/ACTUALS@latest/bundled_repos_remote/cash.svc\")"
   ]
  },
  {
   "cell_type": "code",
   "execution_count": 7,
   "id": "7bd63e81",
   "metadata": {},
   "outputs": [],
   "source": [
    "from enum                                                           import Enum\n",
    "class FOO (Enum):\n",
    "\n",
    "    no_git_usage                                    = 0\n",
    "    git_local_only                                  = 1\n",
    "    git_local_and_remote                            = 2"
   ]
  },
  {
   "cell_type": "code",
   "execution_count": 11,
   "id": "3d623628",
   "metadata": {},
   "outputs": [
    {
     "data": {
      "text/plain": [
       "<FOO.git_local_only: 1>"
      ]
     },
     "execution_count": 11,
     "metadata": {},
     "output_type": "execute_result"
    }
   ],
   "source": [
    "x = FOO.git_local_only\n",
    "x"
   ]
  },
  {
   "cell_type": "code",
   "execution_count": 10,
   "id": "740ff792",
   "metadata": {},
   "outputs": [
    {
     "data": {
      "text/plain": [
       "True"
      ]
     },
     "execution_count": 10,
     "metadata": {},
     "output_type": "execute_result"
    }
   ],
   "source": [
    "x == FOO.git_local_only"
   ]
  },
  {
   "cell_type": "code",
   "execution_count": 13,
   "id": "33f94607",
   "metadata": {},
   "outputs": [
    {
     "data": {
      "text/plain": [
       "True"
      ]
     },
     "execution_count": 13,
     "metadata": {},
     "output_type": "execute_result"
    }
   ],
   "source": [
    "HTARGET=\"589fb34fe73bc303379abbceba50f3131254e85ce4e7cd819ba4276ba29cad16\"\n",
    "HACTUAL=\"589fb34fe73bc303379abbceba50f3131254e85ce4e7cd819ba4276ba29cad16\"\n",
    "HTARGET == HACTUAL"
   ]
  }
 ],
 "metadata": {
  "kernelspec": {
   "display_name": "Python 3 (ipykernel)",
   "language": "python",
   "name": "python3"
  },
  "language_info": {
   "codemirror_mode": {
    "name": "ipython",
    "version": 3
   },
   "file_extension": ".py",
   "mimetype": "text/x-python",
   "name": "python",
   "nbconvert_exporter": "python",
   "pygments_lexer": "ipython3",
   "version": "3.11.3"
  }
 },
 "nbformat": 4,
 "nbformat_minor": 5
}
