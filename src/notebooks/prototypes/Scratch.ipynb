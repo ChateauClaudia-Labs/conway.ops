{
 "cells": [
  {
   "cell_type": "code",
   "execution_count": 3,
   "id": "025d851f",
   "metadata": {},
   "outputs": [],
   "source": [
    "import git\n",
    "import os as _os\n",
    "import sys as _sys"
   ]
  },
  {
   "cell_type": "code",
   "execution_count": 4,
   "id": "d198ac8a",
   "metadata": {},
   "outputs": [],
   "source": [
    "from conway.util.command_parser import CommandParser"
   ]
  },
  {
   "cell_type": "code",
   "execution_count": 5,
   "id": "01f91933",
   "metadata": {},
   "outputs": [
    {
     "data": {
      "text/plain": [
       "'git checkout integration'"
      ]
     },
     "execution_count": 5,
     "metadata": {},
     "output_type": "execute_result"
    }
   ],
   "source": [
    "#cmd = 'git commit    -m \"[task-conway-2] Set up branch management preliminaries\"'\n",
    "cmd = 'git checkout integration'\n",
    "cmd"
   ]
  },
  {
   "cell_type": "code",
   "execution_count": 6,
   "id": "db07972b",
   "metadata": {},
   "outputs": [
    {
     "data": {
      "text/plain": [
       "['git', 'checkout', 'integration']"
      ]
     },
     "execution_count": 6,
     "metadata": {},
     "output_type": "execute_result"
    }
   ],
   "source": [
    "CommandParser().get_argument_list(cmd)"
   ]
  },
  {
   "cell_type": "code",
   "execution_count": null,
   "id": "39dbd30d",
   "metadata": {},
   "outputs": [],
   "source": [
    "FOLDER = \"/mnt/c/Users/aleja/Documents/Code/conway/conway.ops\""
   ]
  },
  {
   "cell_type": "code",
   "execution_count": null,
   "id": "99129568",
   "metadata": {},
   "outputs": [],
   "source": [
    "_os.listdir(FOLDER)"
   ]
  },
  {
   "cell_type": "code",
   "execution_count": null,
   "id": "9e74c97b",
   "metadata": {},
   "outputs": [],
   "source": []
  },
  {
   "cell_type": "code",
   "execution_count": 7,
   "id": "005cab3b",
   "metadata": {},
   "outputs": [
    {
     "data": {
      "text/plain": [
       "'\"f00d3ba33a615dfb763df1234b64a6ddcc75473a|2023-07-22 20:58:51 -0700|Initial commit\"'"
      ]
     },
     "execution_count": 7,
     "metadata": {},
     "output_type": "execute_result"
    }
   ],
   "source": [
    "x = '\"f00d3ba33a615dfb763df1234b64a6ddcc75473a|2023-07-22 20:58:51 -0700|Initial commit\"'\n",
    "x"
   ]
  },
  {
   "cell_type": "code",
   "execution_count": 8,
   "id": "3d2ab5d6",
   "metadata": {},
   "outputs": [
    {
     "data": {
      "text/plain": [
       "'f00d3ba33a615dfb763df1234b64a6ddcc75473a|2023-07-22 20:58:51 -0700|Initial commit'"
      ]
     },
     "execution_count": 8,
     "metadata": {},
     "output_type": "execute_result"
    }
   ],
   "source": [
    "x.strip('\"')"
   ]
  },
  {
   "cell_type": "code",
   "execution_count": null,
   "id": "caec2c18",
   "metadata": {},
   "outputs": [],
   "source": []
  },
  {
   "cell_type": "code",
   "execution_count": null,
   "id": "8203e91a",
   "metadata": {},
   "outputs": [],
   "source": []
  },
  {
   "cell_type": "code",
   "execution_count": null,
   "id": "bd77fae5",
   "metadata": {},
   "outputs": [],
   "source": []
  },
  {
   "cell_type": "code",
   "execution_count": null,
   "id": "82342a95",
   "metadata": {},
   "outputs": [],
   "source": []
  }
 ],
 "metadata": {
  "kernelspec": {
   "display_name": "Python 3 (ipykernel)",
   "language": "python",
   "name": "python3"
  },
  "language_info": {
   "codemirror_mode": {
    "name": "ipython",
    "version": 3
   },
   "file_extension": ".py",
   "mimetype": "text/x-python",
   "name": "python",
   "nbconvert_exporter": "python",
   "pygments_lexer": "ipython3",
   "version": "3.11.3"
  }
 },
 "nbformat": 4,
 "nbformat_minor": 5
}
