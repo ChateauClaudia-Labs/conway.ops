{
 "cells": [
  {
   "cell_type": "markdown",
   "id": "7e594e79",
   "metadata": {},
   "source": [
    "<h1 style=\"color:green\">POC - Project Scaffolding</h1>"
   ]
  },
  {
   "cell_type": "code",
   "execution_count": 1,
   "id": "f4d7cd20",
   "metadata": {},
   "outputs": [
    {
     "name": "stdout",
     "output_type": "stream",
     "text": [
      "CONWAY installation:            \u001b[34m\u001b[7m    conway    \u001b[0m\n",
      "Jupyter using repo[branch]:  \u001b[32m\u001b[7m    conway.ops[task-conway-2]    \u001b[0m\n",
      "Installation path:           \u001b[34m\u001b[7m    /mnt/c/Users/aleja/Documents/Code/conway    \u001b[0m\n",
      "Application:                 \u001b[32m\u001b[7m    <class 'chassis_nb_application.Chassis_NB_Application'>    \u001b[0m\n"
     ]
    }
   ],
   "source": [
    "import os                                                               as _os\n",
    "import sys\n",
    "sys.path.append(_os.path.dirname(_os.getcwd())) # So we can import tvm_notebook_utils\n",
    "import chassis_nb_utils\n",
    "NBU                       = chassis_nb_utils.Chassis_NB_Utils()\n",
    "DFU                       = NBU.DFU\n",
    "T0                        = NBU.time.perf_counter()"
   ]
  },
  {
   "cell_type": "code",
   "execution_count": 2,
   "id": "19cd1200",
   "metadata": {},
   "outputs": [],
   "source": [
    "EXPERIMENT_SANDBOX                          = \"/mnt/c/Users/aleja/Documents/Alejandro/tmp/scaffolding\"\n",
    "LOCAL_REPOS_ROOT                            = f\"{EXPERIMENT_SANDBOX}/local\"\n",
    "REMOTE_REPOS_ROOT                           = f\"{EXPERIMENT_SANDBOX}/remote\"\n",
    "TEMPLATES_ROOT                              = f\"/mnt/c/Users/aleja/Documents/Code/conway/conway.ops/app_templates\""
   ]
  },
  {
   "cell_type": "code",
   "execution_count": 3,
   "id": "8a67f98b",
   "metadata": {},
   "outputs": [
    {
     "data": {
      "text/plain": [
       "'/mnt/c/Users/aleja/Documents/Alejandro/tmp/scaffolding/remote'"
      ]
     },
     "execution_count": 3,
     "metadata": {},
     "output_type": "execute_result"
    }
   ],
   "source": [
    "REMOTE_REPOS_ROOT"
   ]
  },
  {
   "cell_type": "code",
   "execution_count": null,
   "id": "8631878a",
   "metadata": {},
   "outputs": [],
   "source": [
    "admin                                       = NBU.RepoAdministration(\n",
    "                                                                 local_root     = LOCAL_REPOS_ROOT, \n",
    "                                                                 remote_root    = REMOTE_REPOS_ROOT, \n",
    "                                                                 repo_bundle    = None)"
   ]
  },
  {
   "cell_type": "code",
   "execution_count": null,
   "id": "fcfe13b5",
   "metadata": {},
   "outputs": [],
   "source": [
    "params_dict                                 = {\"app_code\": \"cash\", \n",
    "                                               \"app_name\": \"CashManagement\", \n",
    "                                               \"app_module\": \"cash_management\"}\n",
    "variables_dict                              = {\"params\": params_dict}\n",
    "scaffold_spec                               = NBU.ScaffoldSpec(f\"{TEMPLATES_ROOT}/101\", variables_dict)\n"
   ]
  },
  {
   "cell_type": "code",
   "execution_count": null,
   "id": "a6153d59",
   "metadata": {},
   "outputs": [],
   "source": [
    "TEST_PROJECT                                = \"cash\"\n",
    "NBU.PathUtils().remove(f\"{LOCAL_REPOS_ROOT}\")\n",
    "NBU.PathUtils().remove(f\"{REMOTE_REPOS_ROOT}\")\n",
    "with NBU.Profiler(f\"Creating repo bundle for {TEST_PROJECT}\"):\n",
    "    repo_bundle                             = admin.create_project(project_name     = TEST_PROJECT,\n",
    "                                                                   scaffold_spec    = scaffold_spec,\n",
    "                                                                   git_usage        = NBU.GitUsage.git_local_only,\n",
    "                                                                   work_branch_name = \"dev\") "
   ]
  },
  {
   "cell_type": "code",
   "execution_count": null,
   "id": "1574f0d2",
   "metadata": {},
   "outputs": [],
   "source": [
    "assert False"
   ]
  },
  {
   "cell_type": "code",
   "execution_count": 21,
   "id": "a4c368c6",
   "metadata": {},
   "outputs": [],
   "source": [
    "import re as _re"
   ]
  },
  {
   "cell_type": "code",
   "execution_count": 51,
   "id": "1397f97b",
   "metadata": {},
   "outputs": [
    {
     "data": {
      "text/plain": [
       "14"
      ]
     },
     "execution_count": 51,
     "metadata": {},
     "output_type": "execute_result"
    }
   ],
   "source": [
    "APP = \"CashMANAGEMENT\"\n",
    "len(APP)"
   ]
  },
  {
   "cell_type": "code",
   "execution_count": 54,
   "id": "c3fa6710",
   "metadata": {},
   "outputs": [],
   "source": [
    "REGEX = _re.compile(\".([a-z0-9]).\")"
   ]
  },
  {
   "cell_type": "code",
   "execution_count": 55,
   "id": "d5368c73",
   "metadata": {},
   "outputs": [
    {
     "data": {
      "text/plain": [
       "<re.Match object; span=(0, 3), match='Cas'>"
      ]
     },
     "execution_count": 55,
     "metadata": {},
     "output_type": "execute_result"
    }
   ],
   "source": [
    "m=_re.match(REGEX,APP)\n",
    "m"
   ]
  },
  {
   "cell_type": "code",
   "execution_count": 57,
   "id": "4b54b6cb",
   "metadata": {},
   "outputs": [
    {
     "data": {
      "text/plain": [
       "('Cas', ('a',))"
      ]
     },
     "execution_count": 57,
     "metadata": {},
     "output_type": "execute_result"
    }
   ],
   "source": [
    "m.group(0), m.groups()"
   ]
  },
  {
   "cell_type": "code",
   "execution_count": 61,
   "id": "6ef7f3d2",
   "metadata": {},
   "outputs": [
    {
     "data": {
      "text/plain": [
       "'my53dsr5t'"
      ]
     },
     "execution_count": 61,
     "metadata": {},
     "output_type": "execute_result"
    }
   ],
   "source": [
    "\"my53DSr5t\".lower()"
   ]
  },
  {
   "cell_type": "code",
   "execution_count": 1,
   "id": "55365e1f",
   "metadata": {},
   "outputs": [],
   "source": [
    "from conway.util.case_utils import UnderscoreDelimeterType, HyphenDelimeterType, CamelDelimeterType, CaseUtils\n",
    "un = UnderscoreDelimeterType()\n",
    "hy = HyphenDelimeterType()\n",
    "ca = CamelDelimeterType()"
   ]
  },
  {
   "cell_type": "code",
   "execution_count": 2,
   "id": "69432e86",
   "metadata": {},
   "outputs": [
    {
     "name": "stdout",
     "output_type": "stream",
     "text": [
      "False,False, True\n",
      "True,False, False\n",
      "False,True, False\n"
     ]
    }
   ],
   "source": [
    "TESTS = [\"CashManagementConfig\",\"Cash_Management_config\", \"Cash-Management-config\"]\n",
    "for t in TESTS:\n",
    "    print(f\"{un.is_valid(t)},{ hy.is_valid(t)}, {ca.is_valid(t)}\")"
   ]
  },
  {
   "cell_type": "code",
   "execution_count": 3,
   "id": "85baa143",
   "metadata": {},
   "outputs": [
    {
     "name": "stdout",
     "output_type": "stream",
     "text": [
      "0: Camel tokens: ['Cash', 'Management', 'Config']\n",
      "1: Underscore tokens: ['Cash', 'Management', 'config']\n",
      "2: Hyphen tokens: ['Cash', 'Management', 'config']\n"
     ]
    }
   ],
   "source": [
    "for idx in range(len(TESTS)):\n",
    "    t = TESTS[idx]\n",
    "    if un.is_valid(t):\n",
    "        print(f\"{idx}: Underscore tokens: {un.tokenize(t)}\")\n",
    "    if hy.is_valid(t):\n",
    "        print(f\"{idx}: Hyphen tokens: {hy.tokenize(t)}\")\n",
    "    if ca.is_valid(t):\n",
    "        print(f\"{idx}: Camel tokens: {ca.tokenize(t)}\")"
   ]
  },
  {
   "cell_type": "code",
   "execution_count": 5,
   "id": "1fc8b08e",
   "metadata": {},
   "outputs": [
    {
     "name": "stdout",
     "output_type": "stream",
     "text": [
      "Camel=cashManagementConfig, Pascal=CashManagementConfig, Snake=cash_management_config, Kebab=cash-management-config, Static=CASH_MANAGEMENT_CONFIG\n",
      "Camel=cashManagementConfig, Pascal=CashManagementConfig, Snake=cash_management_config, Kebab=cash-management-config, Static=CASH_MANAGEMENT_CONFIG\n",
      "Camel=cashManagementConfig, Pascal=CashManagementConfig, Snake=cash_management_config, Kebab=cash-management-config, Static=CASH_MANAGEMENT_CONFIG\n"
     ]
    }
   ],
   "source": [
    "cu = CaseUtils\n",
    "for t in TESTS:\n",
    "    print(f\"Camel={cu.as_camel(t)}, Pascal={cu.as_pascal(t)}, Snake={cu.as_snake(t)}, Kebab={cu.as_kebab(t)}, Static={cu.as_static(t)}\")"
   ]
  },
  {
   "cell_type": "code",
   "execution_count": 14,
   "id": "c4de1f87",
   "metadata": {},
   "outputs": [],
   "source": [
    "import itertools"
   ]
  },
  {
   "cell_type": "code",
   "execution_count": 21,
   "id": "944bd491",
   "metadata": {},
   "outputs": [],
   "source": [
    "it1 = [\"a\", \"b\"]\n",
    "it2 = [\"10\", \"20\"]\n",
    "m = [it1, it2]"
   ]
  },
  {
   "cell_type": "code",
   "execution_count": 24,
   "id": "be0bc5b3",
   "metadata": {},
   "outputs": [
    {
     "name": "stdout",
     "output_type": "stream",
     "text": [
      "('a', '10')\n",
      "('a', '20')\n",
      "('b', '10')\n",
      "('b', '20')\n"
     ]
    }
   ],
   "source": [
    "for x in itertools.product(*m):\n",
    "    print(x)"
   ]
  },
  {
   "cell_type": "code",
   "execution_count": 25,
   "id": "477d5f6b",
   "metadata": {},
   "outputs": [
    {
     "data": {
      "text/plain": [
       "(['a', 'b'], ['10', '20'])"
      ]
     },
     "execution_count": 25,
     "metadata": {},
     "output_type": "execute_result"
    }
   ],
   "source": [
    "m"
   ]
  },
  {
   "cell_type": "code",
   "execution_count": 26,
   "id": "6799e0d0",
   "metadata": {},
   "outputs": [
    {
     "ename": "SyntaxError",
     "evalue": "can't use starred expression here (1761194456.py, line 1)",
     "output_type": "error",
     "traceback": [
      "\u001b[0;36m  Cell \u001b[0;32mIn[26], line 1\u001b[0;36m\u001b[0m\n\u001b[0;31m    *m\u001b[0m\n\u001b[0m    ^\u001b[0m\n\u001b[0;31mSyntaxError\u001b[0m\u001b[0;31m:\u001b[0m can't use starred expression here\n"
     ]
    }
   ],
   "source": []
  },
  {
   "cell_type": "code",
   "execution_count": null,
   "id": "fa2e84f0",
   "metadata": {},
   "outputs": [],
   "source": []
  }
 ],
 "metadata": {
  "kernelspec": {
   "display_name": "Python 3 (ipykernel)",
   "language": "python",
   "name": "python3"
  },
  "language_info": {
   "codemirror_mode": {
    "name": "ipython",
    "version": 3
   },
   "file_extension": ".py",
   "mimetype": "text/x-python",
   "name": "python",
   "nbconvert_exporter": "python",
   "pygments_lexer": "ipython3",
   "version": "3.11.3"
  }
 },
 "nbformat": 4,
 "nbformat_minor": 5
}
