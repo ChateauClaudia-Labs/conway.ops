{
 "cells": [
  {
   "cell_type": "code",
   "execution_count": null,
   "id": "025d851f",
   "metadata": {},
   "outputs": [],
   "source": [
    "import git\n",
    "import os as _os\n",
    "import sys as _sys"
   ]
  },
  {
   "cell_type": "code",
   "execution_count": 1,
   "id": "9a142cab",
   "metadata": {},
   "outputs": [],
   "source": [
    "from conway.util.command_parser import CommandParser"
   ]
  },
  {
   "cell_type": "code",
   "execution_count": 2,
   "id": "01f91933",
   "metadata": {},
   "outputs": [
    {
     "data": {
      "text/plain": [
       "'git commit    -m \"[task-conway-2] Set up branch management preliminaries\"'"
      ]
     },
     "execution_count": 2,
     "metadata": {},
     "output_type": "execute_result"
    }
   ],
   "source": [
    "cmd = 'git commit    -m \"[task-conway-2] Set up branch management preliminaries\"'\n",
    "cmd"
   ]
  },
  {
   "cell_type": "code",
   "execution_count": 3,
   "id": "16d8450d",
   "metadata": {},
   "outputs": [
    {
     "data": {
      "text/plain": [
       "['git',\n",
       " 'commit',\n",
       " '-m',\n",
       " '\"[task-conway-2] Set up branch management preliminaries\"']"
      ]
     },
     "execution_count": 3,
     "metadata": {},
     "output_type": "execute_result"
    }
   ],
   "source": [
    "CommandParser().get_argument_list(cmd)"
   ]
  },
  {
   "cell_type": "code",
   "execution_count": null,
   "id": "39dbd30d",
   "metadata": {},
   "outputs": [],
   "source": [
    "FOLDER = \"/mnt/c/Users/aleja/Documents/Code/conway/conway.ops\""
   ]
  },
  {
   "cell_type": "code",
   "execution_count": null,
   "id": "99129568",
   "metadata": {},
   "outputs": [],
   "source": [
    "_os.listdir(FOLDER)"
   ]
  },
  {
   "cell_type": "code",
   "execution_count": null,
   "id": "85088e78",
   "metadata": {},
   "outputs": [],
   "source": [
    "executor = git.cmd.Git(FOLDER)"
   ]
  },
  {
   "cell_type": "code",
   "execution_count": null,
   "id": "5c193bd4",
   "metadata": {},
   "outputs": [],
   "source": [
    "executor.execute([\"ls\", \"-a\"]).split(\"\\n\")"
   ]
  },
  {
   "cell_type": "code",
   "execution_count": null,
   "id": "ad035616",
   "metadata": {},
   "outputs": [],
   "source": []
  },
  {
   "cell_type": "code",
   "execution_count": null,
   "id": "6db73003",
   "metadata": {},
   "outputs": [],
   "source": []
  },
  {
   "cell_type": "code",
   "execution_count": null,
   "id": "92eda01d",
   "metadata": {},
   "outputs": [],
   "source": []
  },
  {
   "cell_type": "code",
   "execution_count": null,
   "id": "ef5f49b8",
   "metadata": {},
   "outputs": [],
   "source": []
  },
  {
   "cell_type": "code",
   "execution_count": null,
   "id": "7c06e077",
   "metadata": {},
   "outputs": [],
   "source": [
    "executor.execute([\"git\", \"status\"]).split(\"\\n\")"
   ]
  },
  {
   "cell_type": "code",
   "execution_count": null,
   "id": "8203e91a",
   "metadata": {},
   "outputs": [],
   "source": []
  },
  {
   "cell_type": "code",
   "execution_count": null,
   "id": "bd77fae5",
   "metadata": {},
   "outputs": [],
   "source": []
  },
  {
   "cell_type": "code",
   "execution_count": null,
   "id": "82342a95",
   "metadata": {},
   "outputs": [],
   "source": []
  }
 ],
 "metadata": {
  "kernelspec": {
   "display_name": "Python 3 (ipykernel)",
   "language": "python",
   "name": "python3"
  },
  "language_info": {
   "codemirror_mode": {
    "name": "ipython",
    "version": 3
   },
   "file_extension": ".py",
   "mimetype": "text/x-python",
   "name": "python",
   "nbconvert_exporter": "python",
   "pygments_lexer": "ipython3",
   "version": "3.11.3"
  }
 },
 "nbformat": 4,
 "nbformat_minor": 5
}
